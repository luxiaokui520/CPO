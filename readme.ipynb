{
 "cells": [
  {
   "cell_type": "code",
   "execution_count": null,
   "metadata": {
    "collapsed": true
   },
   "outputs": [],
   "source": []
  },
  {
   "cell_type": "markdown",
   "source": [
    "lab2\n",
    "Variant Description: Variant 1\n",
    "Our task is to convert a string into a Mathematical expression and calculate the correct output of its mathematical formula. Among them, the user can input the character string of the function defined by himself in the form of f (x), and can calculate the functions of sin, cos, log, pow and other forms, and output the corresponding calculation result.\n",
    "\n",
    "Synopsis\n",
    "The arithmetic expression we usually use is an infix expression, such as 1 + 3 * 2. The characteristic of the infix expression is that the binary operator is always placed between the two arithmetic objects related to it.\n",
    "\n",
    "It is easier to understand by humans, but it is very troublesome to process by computers. The order of calculation is often determined by the content of the expression, which is irregular\n",
    "\n",
    "The suffix expression, the characteristic of the suffix expression is: each operator is placed after its operation object, taking the above infix expression 1 + 2 * 3 as an example, the conversion to the suffix expression is 123 * +\n",
    "\n",
    "Our task is to convert the infix expression into a suffix expression that the computer can process for calculation\n",
    "\n",
    "Contribution summary for each group member\n",
    "Wu Kuncheng is responsible for the preparation and design of the main code. Xu Zihao is responsible for the debugging and modification of the code and the preparation of the test class.\n",
    "\n",
    "\n",
    "If it is a number, then push it directly into the array num\n",
    "\n",
    "If it is an operand, further judgment is required\n",
    "\n",
    "(1) If it is the left parenthesis '(' directly onto the stack opera\n",
    "\n",
    "(2) If it is an operator ('+', '-', '*', '/'), first determine the priority of the operand on the top of the stack of the array opera (if it is an empty stack, then push it directly into the array opera ), If it is the left parenthesis, then directly push the stack into the array opera, if the top of the stack is an operator, and the priority of the top operator is greater than the operator\n",
    "\n",
    "Then push the operator at the top of the stack onto the stack num and repeat step 3. If the priority of the operator at the top of the stack is less than this operator, then put the operator on the stack directly into opera\n",
    "\n",
    "(3) If it is the right parenthesis ')', it means that there must be a left parenthesis in the opera array (if you have not entered a mistake), then the operators in opera will be pushed out of the stack in order and put on the stack. Go to num until you encounter the left bracket '(' (note that the left bracket does not need to be pushed to num)\n",
    "\n",
    "If the infix expression has been scanned, then the operands in opera will be popped out of the stack one by one and put into the stack to num. If there is no scan, repeat steps 1-3\n",
    "\n",
    "It should be noted that the closer the operand in opera is to the top of the stack, the higher the priority\n",
    "\n",
    "Suffix expression evaluation\n",
    "\n",
    "After completing the infix expression to suffix expression, the next step is the calculation of the suffix expression. The calculation of the suffix expression is slightly simpler than that of the infix to suffix conversion. It only needs to convert the suffix expression from left to right. Scan one after the other and put them on the stack one by one,\n",
    "\n",
    "The circumstances to consider are as follows\n",
    "\n",
    "If it is a number, then push it directly into the num\n",
    "\n",
    "If it is an operator, push the two numbers on the top of the stack (because the operators we consider are addition, subtraction, multiplication, and division are all binary operators, only two operands are needed). Digits to perform the corresponding operation, and push the operation result to the stack\n",
    "\n",
    "Until you encounter '\\0'\n",
    "\n",
    "\n",
    "\n",
    "Conclusion\n",
    "In this experiment we completed the function of inputting a string and calculating the result of the expression of the string operation. We can handle custom functions, sin functions, cos functions, and operate with operators such as addition, subtraction, multiplication and division. We converted the infix expression into a suffix expression, processed it in the suffix expression, and calculated its result correctly"
   ],
   "metadata": {
    "collapsed": false
   }
  }
 ],
 "metadata": {
  "kernelspec": {
   "display_name": "Python 3",
   "language": "python",
   "name": "python3"
  },
  "language_info": {
   "codemirror_mode": {
    "name": "ipython",
    "version": 2
   },
   "file_extension": ".py",
   "mimetype": "text/x-python",
   "name": "python",
   "nbconvert_exporter": "python",
   "pygments_lexer": "ipython2",
   "version": "2.7.6"
  }
 },
 "nbformat": 4,
 "nbformat_minor": 0
}